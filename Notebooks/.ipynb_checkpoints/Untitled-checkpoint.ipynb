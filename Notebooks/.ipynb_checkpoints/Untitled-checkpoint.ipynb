{
 "cells": [
  {
   "cell_type": "code",
   "execution_count": 1,
   "id": "0b064cd3-dc48-4430-994a-ec535af811a2",
   "metadata": {
    "tags": []
   },
   "outputs": [],
   "source": [
    "include(\"../Modules/TestingFunctions.jl\")\n",
    "using .TestingFunctions"
   ]
  },
  {
   "cell_type": "code",
   "execution_count": 8,
   "id": "dd9084c2-51c8-427f-b725-a87de012dedf",
   "metadata": {
    "tags": []
   },
   "outputs": [
    {
     "data": {
      "text/plain": [
       "Dict{String, Any} with 13 entries:\n",
       "  \"prediction_type\"   => \"multi_step\"\n",
       "  \"testing_params\"    => Dict{String, Any}(\"stochastic\"=>false, \"mask_states_b4…\n",
       "  \"data\"              => \"Lorenz 0_01\"\n",
       "  \"num_partitions\"    => 6\n",
       "  \"error_func\"        => \"RMSE\"\n",
       "  \"testing_parameter\" => \"n_steps\"\n",
       "  \"k\"                 => 50\n",
       "  \"date\"              => \"2025-03-06\"\n",
       "  \"ignore_first\"      => 100\n",
       "  \"errors\"            => Any[0.601491, 0.78667, 1.09923, 1.38674, 2.22116, 2.84…\n",
       "  \"m\"                 => 3\n",
       "  \"trials\"            => 30\n",
       "  \"n_steps\"           => Any[1, 2, 3, 5, 10, 20, 30, 40, 50, 70, 100]"
      ]
     },
     "execution_count": 8,
     "metadata": {},
     "output_type": "execute_result"
    }
   ],
   "source": [
    "ESN_ON_test = find_test(Dict(\n",
    "        \"prediction_type\" => \"multi_step\",\n",
    "        \"testing_params\" => Dict(\n",
    "            \"mask_states_b4_readout\" => false,\n",
    "            \"stochastic\" => false,\n",
    "            \"stochastic_rescale_V_rec\" => false\n",
    "        ),\n",
    "        \"data\" => \"Lorenz 0_01\",\n",
    "        \"error_func\" => \"RMSE\",\n",
    "        \"testing_parameter\" => \"n_steps\",\n",
    "        \"k\" => 50,\n",
    "        \"ignore_first\" => 100,\n",
    "        \"m\" => 3,\n",
    "        \"trials\" => 30,\n",
    "        \"num_partitions\" => 6\n",
    "))[1]"
   ]
  },
  {
   "cell_type": "code",
   "execution_count": 10,
   "id": "4cd49245-b0dd-4b6e-8803-bf11869c8b3b",
   "metadata": {
    "tags": []
   },
   "outputs": [
    {
     "ename": "LoadError",
     "evalue": "No matching test found",
     "output_type": "error",
     "traceback": [
      "No matching test found",
      "",
      "Stacktrace:",
      " [1] error(s::String)",
      "   @ Base ./error.jl:35",
      " [2] find_test(test_dict::Dict{String, Any})",
      "   @ Main.TestingFunctions ~/Desktop/Uni/Honours Research/echo-state-networks/Modules/TestingFunctions.jl:350",
      " [3] top-level scope",
      "   @ In[10]:1"
     ]
    }
   ],
   "source": [
    "vanilla_test = find_test(Dict(\n",
    "        \"prediction_type\" => \"multi_step\",\n",
    "        \"testing_params\" => Dict(\n",
    "            \"mask_states_b4_readout\" => false,\n",
    "            \"stochastic\" => false,\n",
    "            \"stochastic_rescale_V_rec\" => false\n",
    "        ),\n",
    "        \"data\" => \"Lorenz 0_01\",\n",
    "        \"error_func\" => \"RMSE\",\n",
    "        \"testing_parameter\" => \"n_steps\",\n",
    "        \"k\" => 300,\n",
    "        \"ignore_first\" => 100,\n",
    "        \"m\" => 1,\n",
    "        \"trials\" => 30\n",
    "))[1]"
   ]
  },
  {
   "cell_type": "code",
   "execution_count": null,
   "id": "4db5838f-47ea-4178-a6d2-a570e87bc4e9",
   "metadata": {},
   "outputs": [],
   "source": []
  }
 ],
 "metadata": {
  "kernelspec": {
   "display_name": "Julia 1.10.5",
   "language": "julia",
   "name": "julia-1.10"
  },
  "language_info": {
   "file_extension": ".jl",
   "mimetype": "application/julia",
   "name": "julia",
   "version": "1.10.5"
  }
 },
 "nbformat": 4,
 "nbformat_minor": 5
}
