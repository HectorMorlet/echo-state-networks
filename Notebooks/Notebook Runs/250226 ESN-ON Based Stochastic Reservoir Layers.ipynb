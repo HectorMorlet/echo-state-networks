{
 "cells": [
  {
   "cell_type": "markdown",
   "id": "4a420748-8741-4eca-9b1d-f007a6efdce6",
   "metadata": {
    "jp-MarkdownHeadingCollapsed": true,
    "papermill": {
     "duration": 0.002472,
     "end_time": "2025-02-26T08:51:38.278219",
     "exception": false,
     "start_time": "2025-02-26T08:51:38.275747",
     "status": "completed"
    },
    "tags": []
   },
   "source": [
    "<!-- # Setup -->"
   ]
  },
  {
   "cell_type": "markdown",
   "id": "a6fd67d2",
   "metadata": {
    "jp-MarkdownHeadingCollapsed": true,
    "papermill": {
     "duration": 0.001451,
     "end_time": "2025-02-26T08:51:38.281408",
     "exception": false,
     "start_time": "2025-02-26T08:51:38.279957",
     "status": "completed"
    },
    "tags": []
   },
   "source": [
    "## Libraries"
   ]
  },
  {
   "cell_type": "code",
   "execution_count": 1,
   "id": "42a06fcf",
   "metadata": {
    "execution": {
     "iopub.execute_input": "2025-02-26T16:51:38.763000Z",
     "iopub.status.busy": "2025-02-26T16:51:38.285000Z",
     "iopub.status.idle": "2025-02-26T16:51:49.838000Z",
     "shell.execute_reply": "2025-02-26T16:51:49.756000Z"
    },
    "papermill": {
     "duration": 11.559009,
     "end_time": "2025-02-26T08:51:49.841824",
     "exception": false,
     "start_time": "2025-02-26T08:51:38.282815",
     "status": "completed"
    },
    "tags": []
   },
   "outputs": [],
   "source": [
    "# using LinearAlgebra\n",
    "using SparseArrays\n",
    "# using Random\n",
    "using CairoMakie\n",
    "# using Statistics\n",
    "# using ProgressMeter\n",
    "using DataFrames\n",
    "using DelimitedFiles"
   ]
  },
  {
   "cell_type": "code",
   "execution_count": 2,
   "id": "9e9b0e97",
   "metadata": {
    "execution": {
     "iopub.execute_input": "2025-02-26T16:51:50.747000Z",
     "iopub.status.busy": "2025-02-26T16:51:49.850000Z",
     "iopub.status.idle": "2025-02-26T16:51:51.240000Z",
     "shell.execute_reply": "2025-02-26T16:51:51.239000Z"
    },
    "papermill": {
     "duration": 1.398266,
     "end_time": "2025-02-26T08:51:51.244795",
     "exception": false,
     "start_time": "2025-02-26T08:51:49.846529",
     "status": "completed"
    },
    "tags": []
   },
   "outputs": [
    {
     "name": "stderr",
     "output_type": "stream",
     "text": [
      "WARNING: using EchoStateNetworks.EchoStateNetworks in module EchoStateNetworksStochastic conflicts with an existing identifier.\n"
     ]
    }
   ],
   "source": [
    "include(\"../Scripts/EchoStateNetworks.jl\")\n",
    "using .EchoStateNetworks\n",
    "include(\"../Scripts/ONReservoir.jl\")\n",
    "using .ONReservoir\n",
    "include(\"../Scripts/TurningError.jl\")\n",
    "using .TurningError\n",
    "include(\"../Scripts/TestingFunctions.jl\")\n",
    "using .TestingFunctions"
   ]
  },
  {
   "cell_type": "markdown",
   "id": "ad1d1c7d",
   "metadata": {
    "jp-MarkdownHeadingCollapsed": true,
    "papermill": {
     "duration": 0.00227,
     "end_time": "2025-02-26T08:51:51.251041",
     "exception": false,
     "start_time": "2025-02-26T08:51:51.248771",
     "status": "completed"
    },
    "tags": []
   },
   "source": [
    "## Read in Lorenz testing data"
   ]
  },
  {
   "cell_type": "code",
   "execution_count": 3,
   "id": "29715a6b",
   "metadata": {
    "execution": {
     "iopub.execute_input": "2025-02-26T16:51:51.257000Z",
     "iopub.status.busy": "2025-02-26T16:51:51.257000Z",
     "iopub.status.idle": "2025-02-26T16:51:52.475000Z",
     "shell.execute_reply": "2025-02-26T16:51:52.474000Z"
    },
    "papermill": {
     "duration": 1.224475,
     "end_time": "2025-02-26T08:51:52.478456",
     "exception": false,
     "start_time": "2025-02-26T08:51:51.253981",
     "status": "completed"
    },
    "tags": []
   },
   "outputs": [],
   "source": [
    "lo_train = vec(readdlm(\"../Data/lorenz_train.txt\"))\n",
    "lo_test = vec(readdlm(\"../Data/lorenz_test.txt\"));"
   ]
  },
  {
   "cell_type": "markdown",
   "id": "dc030114-c28b-46a5-8134-ae422b24b8f2",
   "metadata": {
    "papermill": {
     "duration": 0.002482,
     "end_time": "2025-02-26T08:51:52.484722",
     "exception": false,
     "start_time": "2025-02-26T08:51:52.482240",
     "status": "completed"
    },
    "tags": []
   },
   "source": [
    "# Multi step predictions"
   ]
  },
  {
   "cell_type": "code",
   "execution_count": 4,
   "id": "0ebcbbbb",
   "metadata": {
    "execution": {
     "iopub.execute_input": "2025-02-26T16:51:52.491000Z",
     "iopub.status.busy": "2025-02-26T16:51:52.491000Z"
    },
    "papermill": {
     "duration": null,
     "end_time": null,
     "exception": false,
     "start_time": "2025-02-26T08:51:52.487122",
     "status": "running"
    },
    "tags": []
   },
   "outputs": [
    {
     "name": "stdout",
     "output_type": "stream",
     "text": [
      "Trial 1 of 30\n",
      "Created reservoir of size: "
     ]
    },
    {
     "name": "stdout",
     "output_type": "stream",
     "text": [
      "(300,)\n",
      "Created reservoir of size: "
     ]
    },
    {
     "name": "stdout",
     "output_type": "stream",
     "text": [
      "(300,)\n",
      "Trial "
     ]
    },
    {
     "name": "stdout",
     "output_type": "stream",
     "text": [
      "2 of 30\n"
     ]
    },
    {
     "name": "stdout",
     "output_type": "stream",
     "text": [
      "Created reservoir of size: (300,)\n"
     ]
    },
    {
     "name": "stdout",
     "output_type": "stream",
     "text": [
      "Created reservoir of size: (300,)\n"
     ]
    },
    {
     "name": "stdout",
     "output_type": "stream",
     "text": [
      "Trial 3 of 30\n",
      "Created reservoir of size: "
     ]
    },
    {
     "name": "stdout",
     "output_type": "stream",
     "text": [
      "(300,)\n",
      "Created reservoir of size: "
     ]
    },
    {
     "name": "stdout",
     "output_type": "stream",
     "text": [
      "(300,)\n",
      "Trial "
     ]
    },
    {
     "name": "stdout",
     "output_type": "stream",
     "text": [
      "4 of 30\n"
     ]
    },
    {
     "name": "stdout",
     "output_type": "stream",
     "text": [
      "Created reservoir of size: (300,)\n"
     ]
    },
    {
     "name": "stdout",
     "output_type": "stream",
     "text": [
      "Created reservoir of size: (300,)\n"
     ]
    },
    {
     "name": "stdout",
     "output_type": "stream",
     "text": [
      "Trial 5 of 30\n",
      "Created reservoir of size: "
     ]
    },
    {
     "name": "stdout",
     "output_type": "stream",
     "text": [
      "(300,)\n",
      "Created reservoir of size: "
     ]
    },
    {
     "name": "stdout",
     "output_type": "stream",
     "text": [
      "(300,)\n",
      "Trial "
     ]
    },
    {
     "name": "stdout",
     "output_type": "stream",
     "text": [
      "6 of 30\n"
     ]
    },
    {
     "name": "stdout",
     "output_type": "stream",
     "text": [
      "Created reservoir of size: (300,)\n"
     ]
    },
    {
     "name": "stdout",
     "output_type": "stream",
     "text": [
      "Created reservoir of size: (300,)\n"
     ]
    },
    {
     "name": "stdout",
     "output_type": "stream",
     "text": [
      "Trial 7 of 30\n",
      "Created reservoir of size: "
     ]
    },
    {
     "name": "stdout",
     "output_type": "stream",
     "text": [
      "(300,)\n",
      "Created reservoir of size: "
     ]
    },
    {
     "name": "stdout",
     "output_type": "stream",
     "text": [
      "(300,)\n",
      "Trial "
     ]
    },
    {
     "name": "stdout",
     "output_type": "stream",
     "text": [
      "8 of 30\n"
     ]
    },
    {
     "name": "stdout",
     "output_type": "stream",
     "text": [
      "Created reservoir of size: (300,)\n"
     ]
    },
    {
     "name": "stdout",
     "output_type": "stream",
     "text": [
      "Created reservoir of size: (300,)\n"
     ]
    },
    {
     "name": "stdout",
     "output_type": "stream",
     "text": [
      "Trial 9 of 30\n",
      "Created reservoir of size: "
     ]
    },
    {
     "name": "stdout",
     "output_type": "stream",
     "text": [
      "(300,)\n",
      "Created reservoir of size: "
     ]
    },
    {
     "name": "stdout",
     "output_type": "stream",
     "text": [
      "(300,)\n",
      "Trial "
     ]
    },
    {
     "name": "stdout",
     "output_type": "stream",
     "text": [
      "10 of 30\n"
     ]
    },
    {
     "name": "stdout",
     "output_type": "stream",
     "text": [
      "Created reservoir of size: (300,)\n"
     ]
    },
    {
     "name": "stdout",
     "output_type": "stream",
     "text": [
      "Created reservoir of size: (300,)\n"
     ]
    },
    {
     "name": "stdout",
     "output_type": "stream",
     "text": [
      "Trial 11 of 30\n",
      "Created reservoir of size: "
     ]
    },
    {
     "name": "stdout",
     "output_type": "stream",
     "text": [
      "(300,)\n",
      "Created reservoir of size: "
     ]
    },
    {
     "name": "stdout",
     "output_type": "stream",
     "text": [
      "(300,)\n",
      "Trial "
     ]
    },
    {
     "name": "stdout",
     "output_type": "stream",
     "text": [
      "12 of 30\n"
     ]
    },
    {
     "name": "stdout",
     "output_type": "stream",
     "text": [
      "Created reservoir of size: (300,)\n"
     ]
    },
    {
     "name": "stdout",
     "output_type": "stream",
     "text": [
      "Created reservoir of size: (300,)\n"
     ]
    },
    {
     "name": "stdout",
     "output_type": "stream",
     "text": [
      "Trial 13 of 30\n",
      "Created reservoir of size: "
     ]
    },
    {
     "name": "stdout",
     "output_type": "stream",
     "text": [
      "(300,)\n",
      "Created reservoir of size: "
     ]
    },
    {
     "name": "stdout",
     "output_type": "stream",
     "text": [
      "(300,)\n",
      "Trial "
     ]
    },
    {
     "name": "stdout",
     "output_type": "stream",
     "text": [
      "14 of 30\n"
     ]
    },
    {
     "name": "stdout",
     "output_type": "stream",
     "text": [
      "Created reservoir of size: (300,)\n"
     ]
    },
    {
     "name": "stdout",
     "output_type": "stream",
     "text": [
      "Created reservoir of size: (300,)\n"
     ]
    },
    {
     "name": "stdout",
     "output_type": "stream",
     "text": [
      "Trial 15 of 30\n",
      "Created reservoir of size: "
     ]
    },
    {
     "name": "stdout",
     "output_type": "stream",
     "text": [
      "(300,)\n",
      "Created reservoir of size: "
     ]
    },
    {
     "name": "stdout",
     "output_type": "stream",
     "text": [
      "(300,)\n",
      "Trial "
     ]
    },
    {
     "name": "stdout",
     "output_type": "stream",
     "text": [
      "16 of 30\n"
     ]
    },
    {
     "name": "stdout",
     "output_type": "stream",
     "text": [
      "Created reservoir of size: (300,)\n"
     ]
    },
    {
     "name": "stdout",
     "output_type": "stream",
     "text": [
      "Created reservoir of size: (300,)\n"
     ]
    },
    {
     "name": "stdout",
     "output_type": "stream",
     "text": [
      "Trial 17 of 30\n",
      "Created reservoir of size: "
     ]
    },
    {
     "name": "stdout",
     "output_type": "stream",
     "text": [
      "(300,)\n",
      "Created reservoir of size: "
     ]
    },
    {
     "name": "stdout",
     "output_type": "stream",
     "text": [
      "(300,)\n",
      "Trial "
     ]
    },
    {
     "name": "stdout",
     "output_type": "stream",
     "text": [
      "18 of 30\n"
     ]
    },
    {
     "name": "stdout",
     "output_type": "stream",
     "text": [
      "Created reservoir of size: (300,)\n"
     ]
    },
    {
     "name": "stdout",
     "output_type": "stream",
     "text": [
      "Created reservoir of size: (300,)\n"
     ]
    },
    {
     "name": "stdout",
     "output_type": "stream",
     "text": [
      "Trial 19 of 30\n",
      "Created reservoir of size: "
     ]
    },
    {
     "name": "stdout",
     "output_type": "stream",
     "text": [
      "(300,)\n",
      "Created reservoir of size: "
     ]
    },
    {
     "name": "stdout",
     "output_type": "stream",
     "text": [
      "(300,)\n",
      "Trial "
     ]
    },
    {
     "name": "stdout",
     "output_type": "stream",
     "text": [
      "20 of 30\n"
     ]
    },
    {
     "name": "stdout",
     "output_type": "stream",
     "text": [
      "Created reservoir of size: (300,)\n"
     ]
    },
    {
     "name": "stdout",
     "output_type": "stream",
     "text": [
      "Created reservoir of size: (300,)\n"
     ]
    },
    {
     "name": "stdout",
     "output_type": "stream",
     "text": [
      "Trial 21 of 30\n",
      "Created reservoir of size: "
     ]
    },
    {
     "name": "stdout",
     "output_type": "stream",
     "text": [
      "(300,)\n",
      "Created reservoir of size: "
     ]
    },
    {
     "name": "stdout",
     "output_type": "stream",
     "text": [
      "(300,)\n",
      "Trial "
     ]
    },
    {
     "name": "stdout",
     "output_type": "stream",
     "text": [
      "22 of 30\n"
     ]
    },
    {
     "name": "stdout",
     "output_type": "stream",
     "text": [
      "Created reservoir of size: (300,)\n"
     ]
    },
    {
     "name": "stdout",
     "output_type": "stream",
     "text": [
      "Created reservoir of size: (300,)\n"
     ]
    },
    {
     "name": "stdout",
     "output_type": "stream",
     "text": [
      "Trial 23 of 30\n",
      "Created reservoir of size: "
     ]
    },
    {
     "name": "stdout",
     "output_type": "stream",
     "text": [
      "(300,)\n",
      "Created reservoir of size: "
     ]
    },
    {
     "name": "stdout",
     "output_type": "stream",
     "text": [
      "(300,)\n",
      "Trial "
     ]
    },
    {
     "name": "stdout",
     "output_type": "stream",
     "text": [
      "24 of 30\n"
     ]
    },
    {
     "name": "stdout",
     "output_type": "stream",
     "text": [
      "Created reservoir of size: (300,)\n"
     ]
    },
    {
     "name": "stdout",
     "output_type": "stream",
     "text": [
      "Created reservoir of size: (300,)\n"
     ]
    },
    {
     "name": "stdout",
     "output_type": "stream",
     "text": [
      "Trial 25 of 30\n",
      "Created reservoir of size: "
     ]
    },
    {
     "name": "stdout",
     "output_type": "stream",
     "text": [
      "(300,)\n",
      "Created reservoir of size: "
     ]
    },
    {
     "name": "stdout",
     "output_type": "stream",
     "text": [
      "(300,)\n",
      "Trial "
     ]
    },
    {
     "name": "stdout",
     "output_type": "stream",
     "text": [
      "26 of 30\n"
     ]
    },
    {
     "name": "stdout",
     "output_type": "stream",
     "text": [
      "Created reservoir of size: (300,)\n"
     ]
    },
    {
     "name": "stdout",
     "output_type": "stream",
     "text": [
      "Created reservoir of size: (300,)\n"
     ]
    },
    {
     "name": "stdout",
     "output_type": "stream",
     "text": [
      "Trial 27 of 30\n",
      "Created reservoir of size: "
     ]
    },
    {
     "name": "stdout",
     "output_type": "stream",
     "text": [
      "(300,)\n",
      "Created reservoir of size: "
     ]
    },
    {
     "name": "stdout",
     "output_type": "stream",
     "text": [
      "(300,)\n",
      "Trial "
     ]
    },
    {
     "name": "stdout",
     "output_type": "stream",
     "text": [
      "28 of 30\n"
     ]
    },
    {
     "name": "stdout",
     "output_type": "stream",
     "text": [
      "Created reservoir of size: (300,)\n"
     ]
    },
    {
     "name": "stdout",
     "output_type": "stream",
     "text": [
      "Created reservoir of size: (300,)\n"
     ]
    },
    {
     "name": "stdout",
     "output_type": "stream",
     "text": [
      "Trial 29 of 30\n",
      "Created reservoir of size: "
     ]
    },
    {
     "name": "stdout",
     "output_type": "stream",
     "text": [
      "(300,)\n",
      "Created reservoir of size: "
     ]
    },
    {
     "name": "stdout",
     "output_type": "stream",
     "text": [
      "(300,)\n",
      "Trial "
     ]
    },
    {
     "name": "stdout",
     "output_type": "stream",
     "text": [
      "30 of 30\n"
     ]
    },
    {
     "name": "stdout",
     "output_type": "stream",
     "text": [
      "Created reservoir of size: (300,)\n"
     ]
    },
    {
     "name": "stdout",
     "output_type": "stream",
     "text": [
      "Created reservoir of size: (300,)\n"
     ]
    }
   ],
   "source": [
    "graph_multi_step_RMSE_vs_n_steps(lo_train, lo_test, [1, 2, 3, 5, 10, 20, 30, 40, 50, 70, 100], 3, 50; ignore_first=100, trials=30)"
   ]
  },
  {
   "cell_type": "code",
   "execution_count": null,
   "id": "5aff9bb9",
   "metadata": {
    "papermill": {
     "duration": null,
     "end_time": null,
     "exception": null,
     "start_time": null,
     "status": "pending"
    },
    "tags": []
   },
   "outputs": [],
   "source": [
    "testing_params = create_testing_params(stochastic=true)\n",
    "graph_multi_step_RMSE_vs_n_steps(lo_train, lo_test, [1, 2, 3, 5, 10, 20, 30, 40, 50, 70, 100], 3, 50; ignore_first=100, trials=30,\n",
    "    testing_params=testing_params)"
   ]
  }
 ],
 "metadata": {
  "kernelspec": {
   "display_name": "Julia 1.10.5",
   "language": "julia",
   "name": "julia-1.10"
  },
  "language_info": {
   "file_extension": ".jl",
   "mimetype": "application/julia",
   "name": "julia",
   "version": "1.10.5"
  },
  "papermill": {
   "default_parameters": {},
   "duration": null,
   "end_time": null,
   "environment_variables": {},
   "exception": null,
   "input_path": "ESN-ON Based Stochastic Reservoir Layers.ipynb",
   "output_path": "Notebook Runs/250226 ESN-ON Based Stochastic Reservoir Layers.ipynb",
   "parameters": {},
   "start_time": "2025-02-26T08:51:34.371581",
   "version": "2.6.0"
  }
 },
 "nbformat": 4,
 "nbformat_minor": 5
}