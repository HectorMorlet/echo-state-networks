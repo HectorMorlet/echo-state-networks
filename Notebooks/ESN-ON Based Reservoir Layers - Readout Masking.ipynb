{
 "cells": [
  {
   "cell_type": "markdown",
   "id": "4a420748-8741-4eca-9b1d-f007a6efdce6",
   "metadata": {
    "tags": []
   },
   "source": [
    "# Setup"
   ]
  },
  {
   "cell_type": "markdown",
   "id": "a6fd67d2",
   "metadata": {
    "jp-MarkdownHeadingCollapsed": true,
    "tags": []
   },
   "source": [
    "## Libraries"
   ]
  },
  {
   "cell_type": "code",
   "execution_count": null,
   "id": "42a06fcf",
   "metadata": {
    "tags": []
   },
   "outputs": [],
   "source": [
    "# using LinearAlgebra\n",
    "using SparseArrays\n",
    "# using Random\n",
    "using CairoMakie\n",
    "# using Statistics\n",
    "# using ProgressMeter\n",
    "using DataFrames\n",
    "using DelimitedFiles"
   ]
  },
  {
   "cell_type": "code",
   "execution_count": null,
   "id": "9e9b0e97",
   "metadata": {
    "tags": []
   },
   "outputs": [],
   "source": [
    "include(\"../Scripts/EchoStateNetworks.jl\")\n",
    "using .EchoStateNetworks\n",
    "include(\"../Scripts/ONReservoir.jl\")\n",
    "using .ONReservoir\n",
    "include(\"../Scripts/TurningError.jl\")\n",
    "using .TurningError\n",
    "include(\"../Scripts/TestingFunctions.jl\")\n",
    "using .TestingFunctions"
   ]
  },
  {
   "cell_type": "markdown",
   "id": "ad1d1c7d",
   "metadata": {
    "jp-MarkdownHeadingCollapsed": true,
    "tags": []
   },
   "source": [
    "## Read in Lorenz testing data"
   ]
  },
  {
   "cell_type": "code",
   "execution_count": null,
   "id": "29715a6b",
   "metadata": {
    "tags": []
   },
   "outputs": [],
   "source": [
    "lo_train = vec(readdlm(\"../Data/lorenz_train.txt\"))\n",
    "lo_test = vec(readdlm(\"../Data/lorenz_test.txt\"))"
   ]
  },
  {
   "cell_type": "code",
   "execution_count": null,
   "id": "23cca07d-f40f-4448-9c57-9ef9c1a6c663",
   "metadata": {
    "tags": []
   },
   "outputs": [],
   "source": [
    "test_freerun(lo_train, lo_test, 4, 30; from=0, to=1000)"
   ]
  },
  {
   "cell_type": "markdown",
   "id": "dc030114-c28b-46a5-8134-ae422b24b8f2",
   "metadata": {
    "tags": []
   },
   "source": [
    "# Multi step predictions"
   ]
  },
  {
   "cell_type": "code",
   "execution_count": null,
   "id": "0ebcbbbb",
   "metadata": {
    "tags": []
   },
   "outputs": [],
   "source": [
    "graph_multi_step_RMSE_vs_n_steps(lo_train, lo_test, [1, 2, 3, 5, 10, 20, 30, 40, 50, 70, 100], 3, 50; ignore_first=100, trials=30,\n",
    "    mask_states_b4_readout=false)"
   ]
  },
  {
   "cell_type": "code",
   "execution_count": null,
   "id": "5aff9bb9",
   "metadata": {
    "tags": []
   },
   "outputs": [],
   "source": [
    "graph_multi_step_RMSE_vs_n_steps(lo_train, lo_test, [1, 2, 3, 5, 10, 20, 30, 40, 50, 70, 100], 3, 50; ignore_first=100, trials=30,\n",
    "    mask_states_b4_readout=true)"
   ]
  }
 ],
 "metadata": {
  "kernelspec": {
   "display_name": "Julia 1.10.5",
   "language": "julia",
   "name": "julia-1.10"
  },
  "language_info": {
   "file_extension": ".jl",
   "mimetype": "application/julia",
   "name": "julia",
   "version": "1.10.5"
  }
 },
 "nbformat": 4,
 "nbformat_minor": 5
}
