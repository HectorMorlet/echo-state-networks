{
 "cells": [
  {
   "cell_type": "code",
   "execution_count": 1,
   "id": "31948ef5-176e-4db8-a0ee-3d397b019fa1",
   "metadata": {
    "tags": []
   },
   "outputs": [],
   "source": [
    "include(\"../Scripts/EchoStateNetworks.jl\")\n",
    "using .EchoStateNetworks\n",
    "include(\"../Scripts/ONReservoir.jl\")\n",
    "using .ONReservoir\n",
    "include(\"../Scripts/TurningError.jl\")\n",
    "using .TurningError\n",
    "include(\"../Scripts/TestingFunctions.jl\")\n",
    "using .TestingFunctions"
   ]
  },
  {
   "cell_type": "code",
   "execution_count": 2,
   "id": "6423fcc5-307d-40cb-b474-ec40f9516997",
   "metadata": {
    "tags": []
   },
   "outputs": [],
   "source": [
    "using DelimitedFiles"
   ]
  },
  {
   "cell_type": "code",
   "execution_count": 3,
   "id": "335c2700-37d4-4ad2-9adb-2c1d956e79fc",
   "metadata": {
    "tags": []
   },
   "outputs": [],
   "source": [
    "lo_train = vec(readdlm(\"../Data/lorenz_train.txt\"))\n",
    "lo_test = vec(readdlm(\"../Data/lorenz_test.txt\"));"
   ]
  },
  {
   "cell_type": "code",
   "execution_count": 11,
   "id": "733ddf76-c0c8-48ff-88be-2f1958fe6967",
   "metadata": {
    "tags": []
   },
   "outputs": [
    {
     "data": {
      "text/plain": [
       "(Union{Nothing, Int64}[nothing, nothing, nothing, 1, 1, 1, 1, 1, 1, 1  …  1, 1, 1, 1, 1, 1, 1, 1, 1, 1], SubArray{Int64, 1, Matrix{Int64}, Tuple{Int64, Base.Slice{Base.OneTo{Int64}}}, true}[[1, 2, 3, 4], [1, 4, 2, 3], [4, 3, 1, 2], [4, 3, 2, 1], [3, 4, 2, 1], [2, 3, 1, 4], [1, 2, 4, 3], [4, 1, 3, 2], [3, 2, 4, 1], [2, 1, 3, 4], [4, 1, 2, 3], [2, 3, 4, 1], [3, 2, 1, 4]])"
      ]
     },
     "execution_count": 11,
     "metadata": {},
     "output_type": "execute_result"
    }
   ],
   "source": [
    "part_symbols, unique_parts = create_ordinal_partition(lo_train, 4, 1, 1)"
   ]
  },
  {
   "cell_type": "code",
   "execution_count": 12,
   "id": "cc707ec8-37c4-4f66-bdc0-6a363b95a820",
   "metadata": {
    "tags": []
   },
   "outputs": [
    {
     "data": {
      "text/plain": [
       "13-element Vector{SubArray{Int64, 1, Matrix{Int64}, Tuple{Int64, Base.Slice{Base.OneTo{Int64}}}, true}}:\n",
       " [1, 2, 3, 4]\n",
       " [1, 4, 2, 3]\n",
       " [4, 3, 1, 2]\n",
       " [4, 3, 2, 1]\n",
       " [3, 4, 2, 1]\n",
       " [2, 3, 1, 4]\n",
       " [1, 2, 4, 3]\n",
       " [4, 1, 3, 2]\n",
       " [3, 2, 4, 1]\n",
       " [2, 1, 3, 4]\n",
       " [4, 1, 2, 3]\n",
       " [2, 3, 4, 1]\n",
       " [3, 2, 1, 4]"
      ]
     },
     "execution_count": 12,
     "metadata": {},
     "output_type": "execute_result"
    }
   ],
   "source": [
    "unique_parts"
   ]
  },
  {
   "cell_type": "code",
   "execution_count": null,
   "id": "bfbf77bb-9a61-4ec7-98f4-53844cadefa3",
   "metadata": {},
   "outputs": [],
   "source": []
  }
 ],
 "metadata": {
  "kernelspec": {
   "display_name": "Julia 1.10.5",
   "language": "julia",
   "name": "julia-1.10"
  },
  "language_info": {
   "file_extension": ".jl",
   "mimetype": "application/julia",
   "name": "julia",
   "version": "1.10.5"
  }
 },
 "nbformat": 4,
 "nbformat_minor": 5
}
